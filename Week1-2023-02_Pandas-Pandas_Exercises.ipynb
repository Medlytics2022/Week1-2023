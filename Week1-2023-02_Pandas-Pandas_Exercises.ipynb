{
  "cells": [
    {
      "cell_type": "markdown",
      "source": "# Pandas Exercises",
      "metadata": {
        "id": "bSU6eKZTdMXZ",
        "colab_type": "text",
        "cell_id": "c5db2cbfafa249b794442f41d1a06beb",
        "deepnote_cell_type": "markdown"
      }
    },
    {
      "cell_type": "code",
      "source": "import pandas as pd\n\nurl = \"https://raw.githubusercontent.com/BeaverWorksMedlytics2020/Data_Public/master/NotebookExampleData/Week1/diabetes.csv\"\nnames = ['preg', 'plas', 'pres', 'skin', 'test', 'mass', 'pedi', 'age', 'class']",
      "metadata": {
        "id": "c5ewTg7vdQFm",
        "colab": {},
        "colab_type": "code",
        "source_hash": null,
        "execution_start": 1625522830394,
        "execution_millis": 4,
        "deepnote_to_be_reexecuted": false,
        "cell_id": "5eb4b8b592f9467b8c19c917665dc695",
        "deepnote_cell_type": "code"
      },
      "outputs": [],
      "execution_count": null
    },
    {
      "cell_type": "markdown",
      "source": "Read in csv above to a pandas dataframe",
      "metadata": {
        "id": "QOLgFaSKeShR",
        "colab_type": "text",
        "cell_id": "cc90af85bdcc4e1aa98afb844ea3c5e4",
        "deepnote_cell_type": "markdown"
      }
    },
    {
      "cell_type": "code",
      "source": "# YOUR CODE HERE",
      "metadata": {
        "id": "Okcb8dnXeX2C",
        "colab": {},
        "colab_type": "code",
        "cell_id": "4f27ea2d7c3540ffab918aec1db3e23e",
        "deepnote_cell_type": "code"
      },
      "outputs": [],
      "execution_count": null
    },
    {
      "cell_type": "markdown",
      "source": "Print out the age and class of the 100th patient",
      "metadata": {
        "id": "d4DyOsuoewE2",
        "colab_type": "text",
        "cell_id": "c32963d882644ce392851db273f1de3a",
        "deepnote_cell_type": "markdown"
      }
    },
    {
      "cell_type": "code",
      "source": "# YOUR CODE HERE",
      "metadata": {
        "id": "xZqBsg39eY8_",
        "colab": {},
        "colab_type": "code",
        "cell_id": "72be0e042d5541008416a70e8a56e0fc",
        "deepnote_cell_type": "code"
      },
      "outputs": [],
      "execution_count": null
    },
    {
      "cell_type": "markdown",
      "source": "Write code to figure out how many people are classified as not having diabetes, class is 0",
      "metadata": {
        "id": "j8L2EM-5iOWc",
        "colab_type": "text",
        "cell_id": "169e6fd3635f4a80852334d80168dc1a",
        "deepnote_cell_type": "markdown"
      }
    },
    {
      "cell_type": "code",
      "source": "# YOUR CODE HERE",
      "metadata": {
        "id": "vohzS51WiWvD",
        "colab": {},
        "colab_type": "code",
        "cell_id": "c36a44e3bc61480a8c0b455ade386d7e",
        "deepnote_cell_type": "code"
      },
      "outputs": [],
      "execution_count": null
    },
    {
      "cell_type": "markdown",
      "source": "Write code to figure out how many people are classified as having diabetes, class is 1",
      "metadata": {
        "id": "ieGRz4iiiX4E",
        "colab_type": "text",
        "cell_id": "b33f85d8965745e58e05a0dc2cc25fc2",
        "deepnote_cell_type": "markdown"
      }
    },
    {
      "cell_type": "code",
      "source": "# YOUR CODE HERE",
      "metadata": {
        "id": "-jq2O-vriXRT",
        "colab": {},
        "colab_type": "code",
        "cell_id": "485c5e24fd1c45cb87172149820ab95c",
        "deepnote_cell_type": "code"
      },
      "outputs": [],
      "execution_count": null
    },
    {
      "cell_type": "markdown",
      "source": "What percent of people have diabetes in the study",
      "metadata": {
        "id": "oeFT7T9OnuSd",
        "colab_type": "text",
        "cell_id": "66436003d85c44ac82e1abb7ca6c7c50",
        "deepnote_cell_type": "markdown"
      }
    },
    {
      "cell_type": "code",
      "source": "# YOUR CODE HERE",
      "metadata": {
        "id": "zGGHptFYnwq0",
        "colab": {},
        "colab_type": "code",
        "cell_id": "800621d1d96d4668952d1997b5776b56",
        "deepnote_cell_type": "code"
      },
      "outputs": [],
      "execution_count": null
    },
    {
      "cell_type": "markdown",
      "source": "Print out the `\"pres\"` and `\"class\"` (no other columns) for the first 5 people",
      "metadata": {
        "id": "nbrjnRPafs0p",
        "colab_type": "text",
        "cell_id": "20fc78066a8f4c209953972429fa4d3f",
        "deepnote_cell_type": "markdown"
      }
    },
    {
      "cell_type": "code",
      "source": "# YOUR CODE HERE",
      "metadata": {
        "id": "GiNCJ19KfHJQ",
        "colab": {},
        "colab_type": "code",
        "cell_id": "62bdd2d8910c4dcf9f0c4e300a3365bf",
        "deepnote_cell_type": "code"
      },
      "outputs": [],
      "execution_count": null
    },
    {
      "cell_type": "markdown",
      "source": "Run the cell below, it will print out the correlation among the columns",
      "metadata": {
        "id": "O-CcsoqlhxUn",
        "colab_type": "text",
        "cell_id": "00521d5ec5aa4e4181a63e6f57b5e189",
        "deepnote_cell_type": "markdown"
      }
    },
    {
      "cell_type": "code",
      "source": "data.corr()",
      "metadata": {
        "id": "pXpVFt6MffQt",
        "colab": {},
        "colab_type": "code",
        "cell_id": "b468d435992a469a8bc4d34aa186c73a",
        "deepnote_cell_type": "code"
      },
      "outputs": [],
      "execution_count": null
    },
    {
      "cell_type": "markdown",
      "source": "What column has the highest correlation with class? Find the mean() value of that column",
      "metadata": {
        "id": "P_7xRF11h4Uf",
        "colab_type": "text",
        "cell_id": "e50b87479d604c1088b63325bbbc04b4",
        "deepnote_cell_type": "markdown"
      }
    },
    {
      "cell_type": "code",
      "source": "# YOUR CODE HERE",
      "metadata": {
        "id": "clb2Gh8Mn9d4",
        "colab": {},
        "colab_type": "code",
        "cell_id": "ab10b6467058440084d72b0a09462c31",
        "deepnote_cell_type": "code"
      },
      "outputs": [],
      "execution_count": null
    },
    {
      "cell_type": "markdown",
      "source": "Create a new dataframe with only people that are above the mean found in the above cell.",
      "metadata": {
        "id": "64yWhAARoWw-",
        "colab_type": "text",
        "cell_id": "3d760dd4f09b4a1f9240f4688463662f",
        "deepnote_cell_type": "markdown"
      }
    },
    {
      "cell_type": "code",
      "source": "# YOUR CODE HERE",
      "metadata": {
        "id": "HRLjs3agkdPY",
        "colab": {},
        "colab_type": "code",
        "cell_id": "7200644d6ff942ffb4305a05c4d61bf6",
        "deepnote_cell_type": "code"
      },
      "outputs": [],
      "execution_count": null
    },
    {
      "cell_type": "markdown",
      "source": "Create a new dataframe that only includes people who are above the average value for each column in the dataset. In other words, find the average value for each column, and then find which users have values above all of these average column values.",
      "metadata": {
        "id": "RxGIQp0JrUnq",
        "colab_type": "text",
        "cell_id": "a63392dfa78b455a9b2a3d107722124c",
        "deepnote_cell_type": "markdown"
      }
    },
    {
      "cell_type": "code",
      "source": "# YOUR CODE HERE",
      "metadata": {
        "id": "Ylf4p6NNrfME",
        "colab": {},
        "colab_type": "code",
        "cell_id": "2e4fa2f552fe4013947bc51ba4b6075d",
        "deepnote_cell_type": "code"
      },
      "outputs": [],
      "execution_count": null
    },
    {
      "cell_type": "markdown",
      "source": "*Note: the next 3 problems were not explicitly shown in our tutorial—being able to effectively google and look through documentation is a very important coding tool!* ¯\\\\\\_(ツ)_/¯",
      "metadata": {
        "id": "Cy_6ce7_8qAB",
        "colab_type": "text",
        "cell_id": "6f4c1073335b481e90b481b582011358",
        "deepnote_cell_type": "markdown"
      }
    },
    {
      "cell_type": "markdown",
      "source": "Ignoring the index (resetting the index to 0) and using the dataframe from the cell above, sort the values based on `\"skin\"`, `\"test\"`, and `\"pedi\"` values in ascending order. Please write this in one line.",
      "metadata": {
        "id": "24pCgP2xbCwZ",
        "colab_type": "text",
        "cell_id": "86d25cd4bd394796838901d1b619653c",
        "deepnote_cell_type": "markdown"
      }
    },
    {
      "cell_type": "code",
      "source": "# YOUR CODE HERE",
      "metadata": {
        "id": "wXZysbVwa7i5",
        "colab": {},
        "colab_type": "code",
        "cell_id": "d9b66d69ffa8441e876da6d3bb12514c",
        "deepnote_cell_type": "code"
      },
      "outputs": [],
      "execution_count": null
    },
    {
      "cell_type": "markdown",
      "source": "Now let's find the 4 largest values for `\"age\"`",
      "metadata": {
        "id": "BIJkXsK4ch-u",
        "colab_type": "text",
        "cell_id": "587861ced9d349609f6ac9817b1c63c7",
        "deepnote_cell_type": "markdown"
      }
    },
    {
      "cell_type": "code",
      "source": "# YOUR CODE HERE",
      "metadata": {
        "id": "kSl28jLLdAF9",
        "colab": {},
        "colab_type": "code",
        "cell_id": "6b81f3ea1b584fab8663eb22e42c99a7",
        "deepnote_cell_type": "code"
      },
      "outputs": [],
      "execution_count": null
    },
    {
      "cell_type": "markdown",
      "source": "Now find the smallest 4 values for `\"pedi\"` and `\"plas\"` in reverse order (smallest to largest).",
      "metadata": {
        "id": "fJRwe8UfqvNG",
        "colab_type": "text",
        "cell_id": "3577f302d1c0493dafe967d796ae8e96",
        "deepnote_cell_type": "markdown"
      }
    },
    {
      "cell_type": "code",
      "source": "# YOUR CODE HERE",
      "metadata": {
        "id": "icQcbPg1quNI",
        "colab": {},
        "colab_type": "code",
        "cell_id": "cc909849c35f467ba08a5c1dff99b0b8",
        "deepnote_cell_type": "code"
      },
      "outputs": [],
      "execution_count": null
    },
    {
      "cell_type": "markdown",
      "source": "<a style='text-decoration:none;line-height:16px;display:flex;color:#5B5B62;padding:10px;justify-content:end;' href='https://deepnote.com?utm_source=created-in-deepnote-cell&projectId=81076ce3-6842-40f5-b00d-f7fa2f89d1cc' target=\"_blank\">\n<img alt='Created in deepnote.com' style='display:inline;max-height:16px;margin:0px;margin-right:7.5px;' src='data:image/svg+xml;base64,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' > </img>\nCreated in <span style='font-weight:600;margin-left:4px;'>Deepnote</span></a>",
      "metadata": {
        "created_in_deepnote_cell": true,
        "deepnote_cell_type": "markdown"
      }
    }
  ],
  "nbformat": 4,
  "nbformat_minor": 0,
  "metadata": {
    "colab": {
      "name": "Pandas_Exercises",
      "provenance": [],
      "collapsed_sections": []
    },
    "deepnote": {},
    "kernelspec": {
      "name": "python3",
      "language": "python",
      "display_name": "Python 3"
    },
    "language_info": {
      "name": "python",
      "version": "3.7.3",
      "mimetype": "text/x-python",
      "file_extension": ".py",
      "pygments_lexer": "ipython3",
      "codemirror_mode": {
        "name": "ipython",
        "version": 3
      },
      "nbconvert_exporter": "python"
    },
    "deepnote_notebook_id": "1855e9ffcfc747538aa79c5c0880ed93",
    "deepnote_execution_queue": []
  }
}